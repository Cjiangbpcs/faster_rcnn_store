{
 "cells": [
  {
   "cell_type": "code",
   "execution_count": 215,
   "metadata": {
    "collapsed": false,
    "jupyter": {
     "outputs_hidden": false
    }
   },
   "outputs": [],
   "source": [
    "%matplotlib inline"
   ]
  },
  {
   "cell_type": "code",
   "execution_count": 216,
   "metadata": {
    "collapsed": false,
    "jupyter": {
     "outputs_hidden": false
    }
   },
   "outputs": [],
   "source": [
    "from __future__ import absolute_import, division\n",
    "from matplotlib import pyplot as plt\n",
    "import gluoncv\n",
    "from gluoncv import model_zoo, data, utils\n",
    "import cv2\n",
    "from IPython import display\n",
    "import random\n",
    "import mxnet as mx"
   ]
  },
  {
   "cell_type": "code",
   "execution_count": 234,
   "metadata": {},
   "outputs": [],
   "source": [
    "rate = 1\n",
    "frames = 625\n",
    "net = model_zoo.get_model('faster_rcnn_resnet50_v1b_voc', pretrained=True)"
   ]
  },
  {
   "cell_type": "code",
   "execution_count": null,
   "metadata": {},
   "outputs": [],
   "source": [
    "cap = cv2.VideoCapture('./retail_store/RetailStore.mp4')\n",
    "count = 0\n",
    "success = True\n",
    "x = 0\n",
    "while success and count < 625*rate+1:\n",
    "    success,image = cap.read()\n",
    "    if count % rate == 0:\n",
    "        display.clear_output(wait=True)\n",
    "        bitmap = \"frame%d.jpg\" % (count//rate)\n",
    "        cv2.imwrite(bitmap, image)\n",
    "        x, img = data.transforms.presets.rcnn.load_test(bitmap, short=512)\n",
    "        box_ids, scores, bboxes = net(x)\n",
    "        ax = utils.viz.plot_bbox(img, bboxes[0], scores[0], box_ids[0], class_names=net.classes)\n",
    "        bitmap2 = 'frame%d-box.jpg' % (count//rate)\n",
    "        plt.savefig(bitmap2, dpi=300)\n",
    "        plt.show()\n",
    "    count += 1"
   ]
  },
  {
   "cell_type": "code",
   "execution_count": null,
   "metadata": {},
   "outputs": [],
   "source": [
    "def faster_rcnn_to_mot(f, count, rate, img, bboxes, scores=None, labels=None, thresh=0.5, class_names=None):\n",
    "    \n",
    "    if labels is not None and not len(bboxes) == len(labels):\n",
    "        raise ValueError('The length of labels and bboxes mismatch, {} vs {}'\n",
    "                         .format(len(labels), len(bboxes)))\n",
    "    if scores is not None and not len(bboxes) == len(scores):\n",
    "        raise ValueError('The length of scores and bboxes mismatch, {} vs {}'\n",
    "                         .format(len(scores), len(bboxes)))\n",
    "    if isinstance(bboxes, mx.nd.NDArray):\n",
    "        bboxes = bboxes.asnumpy()\n",
    "    if isinstance(labels, mx.nd.NDArray):\n",
    "        labels = labels.asnumpy()\n",
    "    if isinstance(scores, mx.nd.NDArray):\n",
    "        scores = scores.asnumpy()\n",
    "\n",
    "    for i, bbox in enumerate(bboxes):\n",
    "        if scores is not None and scores.flat[i] < thresh:\n",
    "            continue\n",
    "        if labels is not None and labels.flat[i] < 0:\n",
    "            continue\n",
    "        cls_id = int(labels.flat[i]) if labels is not None else -1\n",
    "        if class_names is not None and cls_id < len(class_names):\n",
    "            class_name = class_names[cls_id]\n",
    "        else:\n",
    "            class_name = str(cls_id) if cls_id >= 0 else ''\n",
    "        if class_name == 'person':\n",
    "            xmin, ymin, xmax, ymax = [int(x) for x in bbox]\n",
    "            score = '{:.3f}'.format(scores.flat[i]) if scores is not None else ''\n",
    "            bb_left = xmin\n",
    "            bb_top = ymax\n",
    "            bb_width = xmax - xmin\n",
    "            bb_height = ymax - ymin\n",
    "            conf = score\n",
    "            #print(bb_left, bb_top, bb_width, bb_height, conf)\n",
    "            f.write(\"%d,%d,%d,%d,%d,%d,%4f\\n\" % (count//rate, -1, bb_left, bb_top, bb_width, bb_height, round(float(conf),4)))\n",
    "    return bb_left, bb_top, bb_width, bb_height, conf"
   ]
  },
  {
   "cell_type": "code",
   "execution_count": null,
   "metadata": {},
   "outputs": [
    {
     "name": "stdout",
     "output_type": "stream",
     "text": [
      "268 197 40 126 0.999\n",
      "585 198 53 109 0.998\n",
      "622 206 46 82 0.991\n",
      "439 264 68 103 0.979\n",
      "803 145 30 94 0.969\n",
      "430 410 105 140 0.916\n",
      "428 90 49 42 0.836\n",
      "789 511 102 178 0.796\n"
     ]
    }
   ],
   "source": [
    "cap = cv2.VideoCapture('./RightExport.mp4')\n",
    "count = 0\n",
    "success = True\n",
    "x = 0\n",
    "with open('det.txt', 'w') as f:\n",
    "    while success and count < frames*rate+1 :\n",
    "        success,image = cap.read()\n",
    "        if count % rate == 0:\n",
    "            display.clear_output(wait=True)\n",
    "            bitmap = \"%d.jpg\" % (count//rate)\n",
    "            cv2.imwrite(bitmap, image)\n",
    "            x, img = data.transforms.presets.rcnn.load_test(bitmap, short=512)\n",
    "            box_ids, scores, bboxes = net(x)\n",
    "            class_names = net.classes\n",
    "            bb_left, bb_top, width, height, conf = faster_rcnn_to_mot(f, count, rate, img, bboxes[0], scores[0], box_ids[0], thresh=0.5, class_names=net.classes)\n",
    "        count += 1"
   ]
  }
 ],
 "metadata": {
  "kernelspec": {
   "display_name": "Python 3",
   "language": "python",
   "name": "python3"
  },
  "language_info": {
   "codemirror_mode": {
    "name": "ipython",
    "version": 3
   },
   "file_extension": ".py",
   "mimetype": "text/x-python",
   "name": "python",
   "nbconvert_exporter": "python",
   "pygments_lexer": "ipython3",
   "version": "3.6.8"
  }
 },
 "nbformat": 4,
 "nbformat_minor": 4
}
